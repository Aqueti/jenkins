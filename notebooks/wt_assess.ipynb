{
 "cells": [
  {
   "cell_type": "code",
   "execution_count": 568,
   "metadata": {},
   "outputs": [],
   "source": [
    "import numpy as np\n",
    "import pandas as pd\n",
    "import matplotlib.pyplot as plt\n",
    "import re\n",
    "import json\n",
    "import datetime as dt\n",
    "\n",
    "\n",
    "%matplotlib inline"
   ]
  },
  {
   "cell_type": "code",
   "execution_count": 569,
   "metadata": {},
   "outputs": [],
   "source": [
    "log_path = \"/home/astepenko/logs/syslog_77\"\n",
    "\n",
    "with open(log_path, \"r\", encoding=\"utf-8\") as f:\n",
    "    log = f.readlines()"
   ]
  },
  {
   "cell_type": "code",
   "execution_count": 570,
   "metadata": {},
   "outputs": [
    {
     "data": {
      "text/plain": [
       "15491900"
      ]
     },
     "execution_count": 570,
     "metadata": {},
     "output_type": "execute_result"
    }
   ],
   "source": [
    "# log size\n",
    "len(log)"
   ]
  },
  {
   "cell_type": "markdown",
   "metadata": {},
   "source": [
    "## Log processing"
   ]
  },
  {
   "cell_type": "code",
   "execution_count": 571,
   "metadata": {},
   "outputs": [
    {
     "name": "stdout",
     "output_type": "stream",
     "text": [
      "1000000 of 15491900\n",
      "2000000 of 15491900\n",
      "3000000 of 15491900\n",
      "4000000 of 15491900\n",
      "5000000 of 15491900\n",
      "6000000 of 15491900\n",
      "7000000 of 15491900\n",
      "8000000 of 15491900\n",
      "9000000 of 15491900\n",
      "10000000 of 15491900\n",
      "11000000 of 15491900\n",
      "12000000 of 15491900\n",
      "13000000 of 15491900\n",
      "14000000 of 15491900\n",
      "15000000 of 15491900\n"
     ]
    }
   ],
   "source": [
    "aqt_log = []\n",
    "status_log = []\n",
    "\n",
    "is_status, arr_status, scop, err_cnt, cnt = False, [], None, 0, 0\n",
    "for row in log:\n",
    "    d = {'date': np.nan, 'hostname': np.nan, 'process': np.nan, 'timestamp': np.nan, 'guid': np.nan, 'module': np.nan, 'module_id': np.nan, 'method': np.nan, 'level': np.nan, 'content': np.nan}\n",
    "    cnt += 1\n",
    "    if cnt % 1e6 == 0:\n",
    "        print(f'{cnt} of {len(log)}')\n",
    "    try:\n",
    "        if 'AquetiDaemonProcess' not in row:\n",
    "            continue\n",
    "            \n",
    "        ind = row.index(\"]: \") + 2\n",
    "\n",
    "        part = row[:ind-1].split(\" \")\n",
    "        d[\"date\"] = f\"{dt.date.today().year}-{dt.datetime.strptime(part[0], '%b').month}-{part[1]} {part[2]}\"\n",
    "        d[\"hostname\"] = part[3]\n",
    "        d[\"process\"] = part[4]            \n",
    "\n",
    "        parts = row[ind+1:].split(\"::\")\n",
    "        \n",
    "        if len(parts) == 4:\n",
    "            part = parts[0].split(\" \")\n",
    "            d[\"timestamp\"] = int(part[0][1:-1])\n",
    "            d[\"guid\"] = part[1]\n",
    "\n",
    "            part = parts[1]\n",
    "            d[\"module\"], d[\"module_id\"] = part.split(\"(\")\n",
    "            d[\"module_id\"] = d[\"module_id\"][:-1]\n",
    "\n",
    "            part = parts[2]\n",
    "            d[\"method\"] = part\n",
    "\n",
    "            part = parts[3]\n",
    "            ind = part.index(\":\")\n",
    "            d[\"level\"] = part[:ind]\n",
    "            d[\"content\"] = part[ind+1:].strip()            \n",
    "        elif len(parts) == 2:\n",
    "            part = parts[0]            \n",
    "            d[\"module\"], d[\"module_id\"] = part.split(\"(\")\n",
    "            \n",
    "            part = parts[1].split(\":\")\n",
    "            d[\"method\"] = part[0].strip()\n",
    "            d[\"content\"] = part[1].strip()            \n",
    "        else:\n",
    "            part = parts[0]\n",
    "            \n",
    "            if re.findall(r\"status request on scopcontroller\\. entity: \\d+\\s?$\", part):                \n",
    "                scop = part[part.rindex(\":\")+1:].strip()\n",
    "                is_status = True\n",
    "                            \n",
    "            if is_status:\n",
    "                if part[:4] != \"#011\":\n",
    "                    err_cnt += 1\n",
    "                if err_cnt > 6:\n",
    "                    is_status, arr_status, err_cnt = False, [], 0\n",
    "                                    \n",
    "                arr_status.append(part.replace(\"#011\", \"\"))                \n",
    "             \n",
    "                if arr_status[-1] == \"}\\n\":\n",
    "                    r = json.loads(\"\".join(arr_status[arr_status.index('{\\n'):]))\n",
    "                    r['camera'], r['date'], r['process'] = scop, d['date'], d['process']\n",
    "                    status_log.append(r) # {**d, **r}\n",
    "                    is_status, arr_status, err_cnt = False, [], 0\n",
    "                \n",
    "                continue\n",
    "                            \n",
    "            d[\"content\"] = part.strip()\n",
    "        \n",
    "        aqt_log.append(d)        \n",
    "    except:\n",
    "        #print(row)\n",
    "        pass\n",
    "        "
   ]
  },
  {
   "cell_type": "markdown",
   "metadata": {},
   "source": [
    "**Converting dict's to df's**"
   ]
  },
  {
   "cell_type": "code",
   "execution_count": 572,
   "metadata": {},
   "outputs": [],
   "source": [
    "df = pd.DataFrame(aqt_log)\n",
    "df_status = pd.DataFrame(status_log)"
   ]
  },
  {
   "cell_type": "markdown",
   "metadata": {},
   "source": [
    "**Describing dataframe**"
   ]
  },
  {
   "cell_type": "code",
   "execution_count": 573,
   "metadata": {},
   "outputs": [
    {
     "data": {
      "text/html": [
       "<div>\n",
       "<style scoped>\n",
       "    .dataframe tbody tr th:only-of-type {\n",
       "        vertical-align: middle;\n",
       "    }\n",
       "\n",
       "    .dataframe tbody tr th {\n",
       "        vertical-align: top;\n",
       "    }\n",
       "\n",
       "    .dataframe thead th {\n",
       "        text-align: right;\n",
       "    }\n",
       "</style>\n",
       "<table border=\"1\" class=\"dataframe\">\n",
       "  <thead>\n",
       "    <tr style=\"text-align: right;\">\n",
       "      <th></th>\n",
       "      <th>date</th>\n",
       "      <th>hostname</th>\n",
       "      <th>process</th>\n",
       "      <th>guid</th>\n",
       "      <th>module</th>\n",
       "      <th>module_id</th>\n",
       "      <th>method</th>\n",
       "      <th>level</th>\n",
       "      <th>content</th>\n",
       "    </tr>\n",
       "  </thead>\n",
       "  <tbody>\n",
       "    <tr>\n",
       "      <th>count</th>\n",
       "      <td>12736276</td>\n",
       "      <td>12736276</td>\n",
       "      <td>12736276</td>\n",
       "      <td>2149766</td>\n",
       "      <td>2150255</td>\n",
       "      <td>2150255</td>\n",
       "      <td>2150255</td>\n",
       "      <td>2149766</td>\n",
       "      <td>12736276</td>\n",
       "    </tr>\n",
       "    <tr>\n",
       "      <th>unique</th>\n",
       "      <td>75507</td>\n",
       "      <td>1</td>\n",
       "      <td>8</td>\n",
       "      <td>8</td>\n",
       "      <td>27</td>\n",
       "      <td>1236</td>\n",
       "      <td>101</td>\n",
       "      <td>32</td>\n",
       "      <td>485813</td>\n",
       "    </tr>\n",
       "    <tr>\n",
       "      <th>top</th>\n",
       "      <td>2021-4-20 16:45:48</td>\n",
       "      <td>seneca</td>\n",
       "      <td>AquetiDaemonProcess[16049]</td>\n",
       "      <td>e4434b1d73cc1598284548989336</td>\n",
       "      <td>DirectoryServicesServer.cpp</td>\n",
       "      <td>e4434b1d73cc1598284548989336</td>\n",
       "      <td>submoduleCreated</td>\n",
       "      <td>DEBUG</td>\n",
       "      <td>got digital cam gain: 1</td>\n",
       "    </tr>\n",
       "    <tr>\n",
       "      <th>freq</th>\n",
       "      <td>5623</td>\n",
       "      <td>12736276</td>\n",
       "      <td>3941551</td>\n",
       "      <td>2149741</td>\n",
       "      <td>1632582</td>\n",
       "      <td>1733901</td>\n",
       "      <td>1024974</td>\n",
       "      <td>1010710</td>\n",
       "      <td>1470259</td>\n",
       "    </tr>\n",
       "  </tbody>\n",
       "</table>\n",
       "</div>"
      ],
      "text/plain": [
       "                      date  hostname                     process  \\\n",
       "count             12736276  12736276                    12736276   \n",
       "unique               75507         1                           8   \n",
       "top     2021-4-20 16:45:48    seneca  AquetiDaemonProcess[16049]   \n",
       "freq                  5623  12736276                     3941551   \n",
       "\n",
       "                                guid                       module  \\\n",
       "count                        2149766                      2150255   \n",
       "unique                             8                           27   \n",
       "top     e4434b1d73cc1598284548989336  DirectoryServicesServer.cpp   \n",
       "freq                         2149741                      1632582   \n",
       "\n",
       "                           module_id            method    level  \\\n",
       "count                        2150255           2150255  2149766   \n",
       "unique                          1236               101       32   \n",
       "top     e4434b1d73cc1598284548989336  submoduleCreated    DEBUG   \n",
       "freq                         1733901           1024974  1010710   \n",
       "\n",
       "                        content  \n",
       "count                  12736276  \n",
       "unique                   485813  \n",
       "top     got digital cam gain: 1  \n",
       "freq                    1470259  "
      ]
     },
     "execution_count": 573,
     "metadata": {},
     "output_type": "execute_result"
    }
   ],
   "source": [
    "df.loc[:, df.columns != 'timestamp'].describe()"
   ]
  },
  {
   "cell_type": "markdown",
   "metadata": {},
   "source": [
    "**date**"
   ]
  },
  {
   "cell_type": "code",
   "execution_count": 574,
   "metadata": {},
   "outputs": [],
   "source": [
    "df['date'] = df['date'].astype('datetime64')"
   ]
  },
  {
   "cell_type": "markdown",
   "metadata": {},
   "source": [
    "**hostname**"
   ]
  },
  {
   "cell_type": "code",
   "execution_count": 575,
   "metadata": {},
   "outputs": [],
   "source": [
    "# contains just one unique value, dropping\n",
    "\n",
    "df = df.drop(['hostname'], axis=1)"
   ]
  },
  {
   "cell_type": "markdown",
   "metadata": {},
   "source": [
    "**process**"
   ]
  },
  {
   "cell_type": "code",
   "execution_count": 576,
   "metadata": {},
   "outputs": [
    {
     "data": {
      "text/plain": [
       "AquetiDaemonProcess[16049]    3941551\n",
       "AquetiDaemonProcess[19238]    2922004\n",
       "AquetiDaemonProcess[14922]    2244733\n",
       "AquetiDaemonProcess[24078]    2054438\n",
       "AquetiDaemonProcess[9391]     1488657\n",
       "AquetiDaemonProcess[24073]      55659\n",
       "AquetiDaemonProcess[7715]       16535\n",
       "AquetiDaemonProcess[3661]       12699\n",
       "Name: process, dtype: int64"
      ]
     },
     "execution_count": 576,
     "metadata": {},
     "output_type": "execute_result"
    }
   ],
   "source": [
    "df['process'].value_counts(dropna=False)"
   ]
  },
  {
   "cell_type": "markdown",
   "metadata": {},
   "source": [
    "**guid**"
   ]
  },
  {
   "cell_type": "code",
   "execution_count": 577,
   "metadata": {},
   "outputs": [],
   "source": [
    "# contains just one unique value, dropping\n",
    "\n",
    "df = df.drop(['guid'], axis=1)"
   ]
  },
  {
   "cell_type": "markdown",
   "metadata": {},
   "source": [
    "**module**"
   ]
  },
  {
   "cell_type": "code",
   "execution_count": 578,
   "metadata": {},
   "outputs": [
    {
     "data": {
      "text/plain": [
       "['DirectoryServicesServer.cpp',\n",
       " 'ClientSubmodule.cpp',\n",
       " 'AquetiDaemonServer.cpp',\n",
       " 'MnemosyneServer.cpp',\n",
       " 'RenderStream.cpp',\n",
       " 'CronusServer.cpp',\n",
       " 'HyperionServer.cpp',\n",
       " 'DataRequestRouter.cpp',\n",
       " '  ',\n",
       " 'ServerSubmodule.cpp',\n",
       " 'operator',\n",
       " 'ModelHandlerServer.cpp']"
      ]
     },
     "execution_count": 578,
     "metadata": {},
     "output_type": "execute_result"
    }
   ],
   "source": [
    "modules = df[\"module\"].value_counts()[:12].index.to_list()\n",
    "modules"
   ]
  },
  {
   "cell_type": "code",
   "execution_count": 579,
   "metadata": {},
   "outputs": [],
   "source": [
    "df = df[df['module'].isin(modules)]"
   ]
  },
  {
   "cell_type": "markdown",
   "metadata": {},
   "source": [
    "**module_id**"
   ]
  },
  {
   "cell_type": "code",
   "execution_count": 580,
   "metadata": {},
   "outputs": [],
   "source": [
    "# leaving as is"
   ]
  },
  {
   "cell_type": "markdown",
   "metadata": {},
   "source": [
    "**method**"
   ]
  },
  {
   "cell_type": "code",
   "execution_count": 581,
   "metadata": {},
   "outputs": [
    {
     "data": {
      "text/plain": [
       "['submoduleCreated',\n",
       " 'operator()',\n",
       " 'connectToNewDaemons',\n",
       " 'handleNewlyDiscoveredDaemons',\n",
       " 'getSubmodule']"
      ]
     },
     "execution_count": 581,
     "metadata": {},
     "output_type": "execute_result"
    }
   ],
   "source": [
    "methods = df[\"method\"].value_counts()[:60].index.to_list()\n",
    "methods[:5]"
   ]
  },
  {
   "cell_type": "code",
   "execution_count": 582,
   "metadata": {},
   "outputs": [],
   "source": [
    "df = df[df['method'].isin(methods)]"
   ]
  },
  {
   "cell_type": "markdown",
   "metadata": {},
   "source": [
    "**level**"
   ]
  },
  {
   "cell_type": "code",
   "execution_count": 583,
   "metadata": {},
   "outputs": [
    {
     "data": {
      "text/plain": [
       "['DEBUG', 'WARNING', 'ERROR', 'CRITICAL']"
      ]
     },
     "execution_count": 583,
     "metadata": {},
     "output_type": "execute_result"
    }
   ],
   "source": [
    "levels = df['level'].value_counts()[:4].index.to_list()\n",
    "levels"
   ]
  },
  {
   "cell_type": "code",
   "execution_count": 584,
   "metadata": {},
   "outputs": [],
   "source": [
    "df = df[df['level'].isin(levels)]"
   ]
  },
  {
   "cell_type": "markdown",
   "metadata": {},
   "source": [
    "**content**"
   ]
  },
  {
   "cell_type": "code",
   "execution_count": 164,
   "metadata": {},
   "outputs": [],
   "source": [
    "# leaving as is"
   ]
  },
  {
   "cell_type": "markdown",
   "metadata": {},
   "source": [
    "----------------------------------------"
   ]
  },
  {
   "cell_type": "code",
   "execution_count": 585,
   "metadata": {},
   "outputs": [],
   "source": [
    "num_cols = df_status.select_dtypes(exclude=\"object\").columns.to_list()\n",
    "cat_cols = df_status.select_dtypes(include=\"object\").columns.to_list()"
   ]
  },
  {
   "cell_type": "markdown",
   "metadata": {},
   "source": [
    "**Describing status dataframe**"
   ]
  },
  {
   "cell_type": "code",
   "execution_count": 586,
   "metadata": {},
   "outputs": [
    {
     "data": {
      "text/html": [
       "<div>\n",
       "<style scoped>\n",
       "    .dataframe tbody tr th:only-of-type {\n",
       "        vertical-align: middle;\n",
       "    }\n",
       "\n",
       "    .dataframe tbody tr th {\n",
       "        vertical-align: top;\n",
       "    }\n",
       "\n",
       "    .dataframe thead th {\n",
       "        text-align: right;\n",
       "    }\n",
       "</style>\n",
       "<table border=\"1\" class=\"dataframe\">\n",
       "  <thead>\n",
       "    <tr style=\"text-align: right;\">\n",
       "      <th></th>\n",
       "      <th>auto_analog_gain_enabled</th>\n",
       "      <th>auto_digital_gain_enabled</th>\n",
       "      <th>auto_exposure_enabled</th>\n",
       "      <th>auto_ir_filter_enabled</th>\n",
       "      <th>auto_model_generation_enabled</th>\n",
       "      <th>auto_night_mode_enabled</th>\n",
       "      <th>auto_whitebalance</th>\n",
       "      <th>autofocus_algorithm</th>\n",
       "      <th>compression_quality_modes</th>\n",
       "      <th>data_routing_policy</th>\n",
       "      <th>...</th>\n",
       "      <th>software</th>\n",
       "      <th>state</th>\n",
       "      <th>supported_autofocus_algorithms</th>\n",
       "      <th>supported_framerates</th>\n",
       "      <th>supported_whitebalance_modes</th>\n",
       "      <th>system_auto_enabled</th>\n",
       "      <th>whitebalance_mode</th>\n",
       "      <th>camera</th>\n",
       "      <th>date</th>\n",
       "      <th>process</th>\n",
       "    </tr>\n",
       "  </thead>\n",
       "  <tbody>\n",
       "    <tr>\n",
       "      <th>count</th>\n",
       "      <td>14957</td>\n",
       "      <td>14957</td>\n",
       "      <td>14957</td>\n",
       "      <td>14957</td>\n",
       "      <td>14957</td>\n",
       "      <td>14957</td>\n",
       "      <td>14957</td>\n",
       "      <td>14957</td>\n",
       "      <td>14957</td>\n",
       "      <td>14957</td>\n",
       "      <td>...</td>\n",
       "      <td>14957</td>\n",
       "      <td>14957</td>\n",
       "      <td>14957</td>\n",
       "      <td>14957</td>\n",
       "      <td>14957</td>\n",
       "      <td>14957</td>\n",
       "      <td>14957</td>\n",
       "      <td>14973</td>\n",
       "      <td>14973</td>\n",
       "      <td>14973</td>\n",
       "    </tr>\n",
       "    <tr>\n",
       "      <th>unique</th>\n",
       "      <td>2</td>\n",
       "      <td>1</td>\n",
       "      <td>1</td>\n",
       "      <td>1</td>\n",
       "      <td>1</td>\n",
       "      <td>2</td>\n",
       "      <td>2</td>\n",
       "      <td>1</td>\n",
       "      <td>1</td>\n",
       "      <td>1</td>\n",
       "      <td>...</td>\n",
       "      <td>1</td>\n",
       "      <td>2</td>\n",
       "      <td>1</td>\n",
       "      <td>1</td>\n",
       "      <td>1</td>\n",
       "      <td>2</td>\n",
       "      <td>4</td>\n",
       "      <td>5</td>\n",
       "      <td>3457</td>\n",
       "      <td>7</td>\n",
       "    </tr>\n",
       "    <tr>\n",
       "      <th>top</th>\n",
       "      <td>False</td>\n",
       "      <td>False</td>\n",
       "      <td>False</td>\n",
       "      <td>True</td>\n",
       "      <td>True</td>\n",
       "      <td>False</td>\n",
       "      <td>True</td>\n",
       "      <td>standard</td>\n",
       "      <td>[high, medium, low]</td>\n",
       "      <td></td>\n",
       "      <td>...</td>\n",
       "      <td>3.1.0.0-Ubuntu18.04_develop</td>\n",
       "      <td>{'All Mcams Connected': 'WARNING', 'Database C...</td>\n",
       "      <td>[standard, expert]</td>\n",
       "      <td>[5, 10, 15, 20, 25, 30]</td>\n",
       "      <td>[AUTO, CLOUDY, FIXED, FLUORESCENT, HORIZON, IN...</td>\n",
       "      <td>True</td>\n",
       "      <td>AUTO</td>\n",
       "      <td>2</td>\n",
       "      <td>2021-4-20 16:58:27</td>\n",
       "      <td>AquetiDaemonProcess[16049]</td>\n",
       "    </tr>\n",
       "    <tr>\n",
       "      <th>freq</th>\n",
       "      <td>11994</td>\n",
       "      <td>14957</td>\n",
       "      <td>14957</td>\n",
       "      <td>14957</td>\n",
       "      <td>14957</td>\n",
       "      <td>8951</td>\n",
       "      <td>14797</td>\n",
       "      <td>14957</td>\n",
       "      <td>14957</td>\n",
       "      <td>14957</td>\n",
       "      <td>...</td>\n",
       "      <td>14957</td>\n",
       "      <td>10717</td>\n",
       "      <td>14957</td>\n",
       "      <td>14957</td>\n",
       "      <td>14957</td>\n",
       "      <td>11994</td>\n",
       "      <td>8206</td>\n",
       "      <td>3016</td>\n",
       "      <td>35</td>\n",
       "      <td>6179</td>\n",
       "    </tr>\n",
       "  </tbody>\n",
       "</table>\n",
       "<p>4 rows × 37 columns</p>\n",
       "</div>"
      ],
      "text/plain": [
       "       auto_analog_gain_enabled auto_digital_gain_enabled  \\\n",
       "count                     14957                     14957   \n",
       "unique                        2                         1   \n",
       "top                       False                     False   \n",
       "freq                      11994                     14957   \n",
       "\n",
       "       auto_exposure_enabled auto_ir_filter_enabled  \\\n",
       "count                  14957                  14957   \n",
       "unique                     1                      1   \n",
       "top                    False                   True   \n",
       "freq                   14957                  14957   \n",
       "\n",
       "       auto_model_generation_enabled auto_night_mode_enabled  \\\n",
       "count                          14957                   14957   \n",
       "unique                             1                       2   \n",
       "top                             True                   False   \n",
       "freq                           14957                    8951   \n",
       "\n",
       "       auto_whitebalance autofocus_algorithm compression_quality_modes  \\\n",
       "count              14957               14957                     14957   \n",
       "unique                 2                   1                         1   \n",
       "top                 True            standard       [high, medium, low]   \n",
       "freq               14797               14957                     14957   \n",
       "\n",
       "       data_routing_policy  ...                     software  \\\n",
       "count                14957  ...                        14957   \n",
       "unique                   1  ...                            1   \n",
       "top                         ...  3.1.0.0-Ubuntu18.04_develop   \n",
       "freq                 14957  ...                        14957   \n",
       "\n",
       "                                                    state  \\\n",
       "count                                               14957   \n",
       "unique                                                  2   \n",
       "top     {'All Mcams Connected': 'WARNING', 'Database C...   \n",
       "freq                                                10717   \n",
       "\n",
       "       supported_autofocus_algorithms     supported_framerates  \\\n",
       "count                           14957                    14957   \n",
       "unique                              1                        1   \n",
       "top                [standard, expert]  [5, 10, 15, 20, 25, 30]   \n",
       "freq                            14957                    14957   \n",
       "\n",
       "                             supported_whitebalance_modes system_auto_enabled  \\\n",
       "count                                               14957               14957   \n",
       "unique                                                  1                   2   \n",
       "top     [AUTO, CLOUDY, FIXED, FLUORESCENT, HORIZON, IN...                True   \n",
       "freq                                                14957               11994   \n",
       "\n",
       "       whitebalance_mode camera                date  \\\n",
       "count              14957  14973               14973   \n",
       "unique                 4      5                3457   \n",
       "top                 AUTO      2  2021-4-20 16:58:27   \n",
       "freq                8206   3016                  35   \n",
       "\n",
       "                           process  \n",
       "count                        14973  \n",
       "unique                           7  \n",
       "top     AquetiDaemonProcess[16049]  \n",
       "freq                          6179  \n",
       "\n",
       "[4 rows x 37 columns]"
      ]
     },
     "execution_count": 586,
     "metadata": {},
     "output_type": "execute_result"
    }
   ],
   "source": [
    "df_status[cat_cols].describe()"
   ]
  },
  {
   "cell_type": "code",
   "execution_count": null,
   "metadata": {},
   "outputs": [],
   "source": []
  },
  {
   "cell_type": "markdown",
   "metadata": {},
   "source": [
    "## Investigation"
   ]
  },
  {
   "cell_type": "markdown",
   "metadata": {},
   "source": [
    "### General info"
   ]
  },
  {
   "cell_type": "markdown",
   "metadata": {},
   "source": [
    "**Log period**"
   ]
  },
  {
   "cell_type": "code",
   "execution_count": 587,
   "metadata": {},
   "outputs": [
    {
     "data": {
      "text/plain": [
       "'2021-04-20 00:08:47 - 2021-04-20 21:10:27'"
      ]
     },
     "execution_count": 587,
     "metadata": {},
     "output_type": "execute_result"
    }
   ],
   "source": [
    "f\"{df['date'].min()} - {df['date'].max()}\""
   ]
  },
  {
   "cell_type": "markdown",
   "metadata": {},
   "source": [
    "**Number of messages per log level**"
   ]
  },
  {
   "cell_type": "code",
   "execution_count": 588,
   "metadata": {},
   "outputs": [
    {
     "data": {
      "text/plain": [
       "<AxesSubplot:title={'center':'Number of messages per log level'}, xlabel='level'>"
      ]
     },
     "execution_count": 588,
     "metadata": {},
     "output_type": "execute_result"
    },
    {
     "data": {
      "image/png": "[encoded data removed]",
      "text/plain": [
       "<Figure size 576x288 with 1 Axes>"
      ]
     },
     "metadata": {
      "needs_background": "light"
     },
     "output_type": "display_data"
    }
   ],
   "source": [
    "df[['process', 'level']].groupby(['level']).count().reset_index().plot.bar('level', 'process', figsize=(8,4), title='Number of messages per log level')"
   ]
  },
  {
   "cell_type": "markdown",
   "metadata": {},
   "source": [
    "**Most common spam lines**"
   ]
  },
  {
   "cell_type": "code",
   "execution_count": 589,
   "metadata": {},
   "outputs": [
    {
     "data": {
      "text/plain": [
       "index      Failed to emplace submodule connection informa...\n",
       "content                                               510362\n",
       "Name: 0, dtype: object"
      ]
     },
     "execution_count": 589,
     "metadata": {},
     "output_type": "execute_result"
    }
   ],
   "source": [
    "df['content'].value_counts().reset_index().loc[0]"
   ]
  },
  {
   "cell_type": "code",
   "execution_count": 590,
   "metadata": {},
   "outputs": [
    {
     "data": {
      "text/html": [
       "<div>\n",
       "<style scoped>\n",
       "    .dataframe tbody tr th:only-of-type {\n",
       "        vertical-align: middle;\n",
       "    }\n",
       "\n",
       "    .dataframe tbody tr th {\n",
       "        vertical-align: top;\n",
       "    }\n",
       "\n",
       "    .dataframe thead th {\n",
       "        text-align: right;\n",
       "    }\n",
       "</style>\n",
       "<table border=\"1\" class=\"dataframe\">\n",
       "  <thead>\n",
       "    <tr style=\"text-align: right;\">\n",
       "      <th></th>\n",
       "      <th>level</th>\n",
       "      <th>total_lines</th>\n",
       "      <th>line_rate</th>\n",
       "      <th>line</th>\n",
       "    </tr>\n",
       "  </thead>\n",
       "  <tbody>\n",
       "    <tr>\n",
       "      <th>0</th>\n",
       "      <td>CRITICAL</td>\n",
       "      <td>6018</td>\n",
       "      <td>6004</td>\n",
       "      <td>NTP offset is zero, this generally means we ha...</td>\n",
       "    </tr>\n",
       "    <tr>\n",
       "      <th>1</th>\n",
       "      <td>DEBUG</td>\n",
       "      <td>1010655</td>\n",
       "      <td>49454</td>\n",
       "      <td>Satisfied request for submodule {</td>\n",
       "    </tr>\n",
       "    <tr>\n",
       "      <th>2</th>\n",
       "      <td>ERROR</td>\n",
       "      <td>142996</td>\n",
       "      <td>557</td>\n",
       "      <td>Failed to tell AquetiDaemonServer_042251703688...</td>\n",
       "    </tr>\n",
       "    <tr>\n",
       "      <th>3</th>\n",
       "      <td>WARNING</td>\n",
       "      <td>989926</td>\n",
       "      <td>510362</td>\n",
       "      <td>Failed to emplace submodule connection informa...</td>\n",
       "    </tr>\n",
       "  </tbody>\n",
       "</table>\n",
       "</div>"
      ],
      "text/plain": [
       "      level  total_lines  line_rate  \\\n",
       "0  CRITICAL         6018       6004   \n",
       "1     DEBUG      1010655      49454   \n",
       "2     ERROR       142996        557   \n",
       "3   WARNING       989926     510362   \n",
       "\n",
       "                                                line  \n",
       "0  NTP offset is zero, this generally means we ha...  \n",
       "1                  Satisfied request for submodule {  \n",
       "2  Failed to tell AquetiDaemonServer_042251703688...  \n",
       "3  Failed to emplace submodule connection informa...  "
      ]
     },
     "execution_count": 590,
     "metadata": {},
     "output_type": "execute_result"
    }
   ],
   "source": [
    "from collections import Counter\n",
    "\n",
    "tmp = df[['level', 'content']].groupby(['level']).agg(Counter).reset_index()\n",
    "tmp['total_lines'] = tmp['content'].apply(lambda d: np.sum(d.values())).apply(sum)\n",
    "tmp['line_rate'] = tmp['content'].apply(lambda d: max(d.values()))\n",
    "tmp['line'] = tmp['content'].apply(lambda d: max(d, key=d.get))\n",
    "tmp = tmp.drop(['content'], axis=1)\n",
    "tmp"
   ]
  },
  {
   "cell_type": "markdown",
   "metadata": {},
   "source": [
    "**Most common spam words**"
   ]
  },
  {
   "cell_type": "code",
   "execution_count": 591,
   "metadata": {},
   "outputs": [
    {
     "name": "stdout",
     "output_type": "stream",
     "text": [
      "ping: 612365\n",
      "emplace: 510375\n",
      "submodule: 1087563\n"
     ]
    }
   ],
   "source": [
    "words = ['ping', 'emplace', 'submodule']\n",
    "for word in words:\n",
    "    print(f\"{word}: {df['content'].str.contains(word).sum()}\")"
   ]
  },
  {
   "cell_type": "code",
   "execution_count": 592,
   "metadata": {},
   "outputs": [],
   "source": [
    "text = \" \".join(list(df['content'].values))"
   ]
  },
  {
   "cell_type": "code",
   "execution_count": 593,
   "metadata": {},
   "outputs": [
    {
     "data": {
      "text/plain": [
       "(-0.5, 399.5, 199.5, -0.5)"
      ]
     },
     "execution_count": 593,
     "metadata": {},
     "output_type": "execute_result"
    },
    {
     "data": {
      "image/png": "[encoded data removed]",
      "text/plain": [
       "<Figure size 432x288 with 1 Axes>"
      ]
     },
     "metadata": {
      "needs_background": "light"
     },
     "output_type": "display_data"
    }
   ],
   "source": [
    "from wordcloud import WordCloud, STOPWORDS, ImageColorGenerator\n",
    "\n",
    "stopwords = set(STOPWORDS)\n",
    "wordcloud = WordCloud(stopwords=stopwords, background_color=\"white\").generate(text)\n",
    "wordcloud = WordCloud(max_font_size=75, max_words=100, background_color=\"white\").generate(text)\n",
    "\n",
    "plt.figure()\n",
    "plt.imshow(wordcloud, interpolation=\"bilinear\")\n",
    "\n",
    "plt.axis(\"off\")"
   ]
  },
  {
   "cell_type": "code",
   "execution_count": null,
   "metadata": {},
   "outputs": [],
   "source": []
  },
  {
   "cell_type": "markdown",
   "metadata": {},
   "source": [
    "### Server daemon"
   ]
  },
  {
   "cell_type": "markdown",
   "metadata": {},
   "source": [
    "**Number of Aqueti-Daemon instances**"
   ]
  },
  {
   "cell_type": "code",
   "execution_count": 594,
   "metadata": {},
   "outputs": [
    {
     "data": {
      "text/plain": [
       "['AquetiDaemonProcess[24078]',\n",
       " 'AquetiDaemonProcess[9391]',\n",
       " 'AquetiDaemonProcess[16049]',\n",
       " 'AquetiDaemonProcess[19238]',\n",
       " 'AquetiDaemonProcess[24073]',\n",
       " 'AquetiDaemonProcess[3661]',\n",
       " 'AquetiDaemonProcess[7715]',\n",
       " 'AquetiDaemonProcess[14922]']"
      ]
     },
     "execution_count": 594,
     "metadata": {},
     "output_type": "execute_result"
    }
   ],
   "source": [
    "df['process'].unique().tolist()"
   ]
  },
  {
   "cell_type": "markdown",
   "metadata": {},
   "source": [
    "**Causes of daemon interrupts in work**"
   ]
  },
  {
   "cell_type": "code",
   "execution_count": 595,
   "metadata": {},
   "outputs": [],
   "source": [
    "pattern = \"status=\"\n",
    "rs = [line for line in log if pattern in line]"
   ]
  },
  {
   "cell_type": "code",
   "execution_count": 596,
   "metadata": {},
   "outputs": [
    {
     "data": {
      "text/html": [
       "<div>\n",
       "<style scoped>\n",
       "    .dataframe tbody tr th:only-of-type {\n",
       "        vertical-align: middle;\n",
       "    }\n",
       "\n",
       "    .dataframe tbody tr th {\n",
       "        vertical-align: top;\n",
       "    }\n",
       "\n",
       "    .dataframe thead th {\n",
       "        text-align: right;\n",
       "    }\n",
       "</style>\n",
       "<table border=\"1\" class=\"dataframe\">\n",
       "  <thead>\n",
       "    <tr style=\"text-align: right;\">\n",
       "      <th></th>\n",
       "      <th>date</th>\n",
       "      <th>status</th>\n",
       "    </tr>\n",
       "  </thead>\n",
       "  <tbody>\n",
       "    <tr>\n",
       "      <th>0</th>\n",
       "      <td>2021-04-20 06:49:01</td>\n",
       "      <td>6/ABRT</td>\n",
       "    </tr>\n",
       "    <tr>\n",
       "      <th>1</th>\n",
       "      <td>2021-04-20 10:27:47</td>\n",
       "      <td>1/FAILURE</td>\n",
       "    </tr>\n",
       "    <tr>\n",
       "      <th>2</th>\n",
       "      <td>2021-04-20 15:59:32</td>\n",
       "      <td>1/FAILURE</td>\n",
       "    </tr>\n",
       "    <tr>\n",
       "      <th>3</th>\n",
       "      <td>2021-04-20 18:46:43</td>\n",
       "      <td>1/FAILURE</td>\n",
       "    </tr>\n",
       "    <tr>\n",
       "      <th>4</th>\n",
       "      <td>2021-04-20 18:48:53</td>\n",
       "      <td>1/FAILURE</td>\n",
       "    </tr>\n",
       "    <tr>\n",
       "      <th>5</th>\n",
       "      <td>2021-04-20 18:49:42</td>\n",
       "      <td>1/FAILURE</td>\n",
       "    </tr>\n",
       "    <tr>\n",
       "      <th>6</th>\n",
       "      <td>2021-04-20 18:51:07</td>\n",
       "      <td>1/FAILURE</td>\n",
       "    </tr>\n",
       "  </tbody>\n",
       "</table>\n",
       "</div>"
      ],
      "text/plain": [
       "                 date     status\n",
       "0 2021-04-20 06:49:01     6/ABRT\n",
       "1 2021-04-20 10:27:47  1/FAILURE\n",
       "2 2021-04-20 15:59:32  1/FAILURE\n",
       "3 2021-04-20 18:46:43  1/FAILURE\n",
       "4 2021-04-20 18:48:53  1/FAILURE\n",
       "5 2021-04-20 18:49:42  1/FAILURE\n",
       "6 2021-04-20 18:51:07  1/FAILURE"
      ]
     },
     "execution_count": 596,
     "metadata": {},
     "output_type": "execute_result"
    }
   ],
   "source": [
    "tmp = [row.split(\" \") for row in rs]\n",
    "data = [{\"date\": f\"{dt.date.today().year}-{dt.datetime.strptime(tmp[0][0], '%b').month}-{tmp[i][1]} {tmp[i][2]}\", \"status\": tmp[i][-1].strip().replace('status=', '')} for i in range(len(tmp))]\n",
    "df_tmp = pd.DataFrame(data)\n",
    "df_tmp['date'] = df_tmp['date'].astype('datetime64')\n",
    "df_tmp"
   ]
  },
  {
   "cell_type": "markdown",
   "metadata": {},
   "source": [
    "**Recover time**"
   ]
  },
  {
   "cell_type": "code",
   "execution_count": 615,
   "metadata": {},
   "outputs": [],
   "source": [
    "df_rt = df[df['content'].str.contains('Initializing ')][['date', 'process']]"
   ]
  },
  {
   "cell_type": "markdown",
   "metadata": {},
   "source": [
    "**Server daemon work period**"
   ]
  },
  {
   "cell_type": "code",
   "execution_count": 632,
   "metadata": {},
   "outputs": [
    {
     "data": {
      "text/plain": [
       "[<matplotlib.lines.Line2D at 0x7fc6e504f7d0>]"
      ]
     },
     "execution_count": 632,
     "metadata": {},
     "output_type": "execute_result"
    },
    {
     "data": {
      "image/png": "[encoded data removed]",
      "text/plain": [
       "<Figure size 1296x288 with 1 Axes>"
      ]
     },
     "metadata": {
      "needs_background": "light"
     },
     "output_type": "display_data"
    }
   ],
   "source": [
    "# reconnection time varies\n",
    "# server daemon restart triggers some tegra daemons restart what increases a time while frames are not received\n",
    "# average time to reconnect to all tegras ~90 seconds\n",
    "\n",
    "half_int = 45\n",
    "\n",
    "x = df['date'].unique()\n",
    "y = np.ones(len(x))\n",
    "#z_index = np.array([np.arange(i-half_int, i+half_int) for i in np.nditer(np.where(x==df_rt['date'].values))])\n",
    "z_index = np.array([np.arange(i-half_int, i+half_int) for j in df_rt['date'].values for i in np.where(x==j)])\n",
    "y[z_index.flatten()] = 0\n",
    "\n",
    "plt.figure(figsize=(18, 4))\n",
    "plt.ylim(-0.05, 1.05)\n",
    "plt.grid()\n",
    "plt.step(x, y)"
   ]
  },
  {
   "cell_type": "markdown",
   "metadata": {},
   "source": [
    "**Percent of time server daemon was down**"
   ]
  },
  {
   "cell_type": "code",
   "execution_count": 633,
   "metadata": {},
   "outputs": [
    {
     "data": {
      "text/plain": [
       "0.9916776750330251"
      ]
     },
     "execution_count": 633,
     "metadata": {},
     "output_type": "execute_result"
    }
   ],
   "source": [
    "total_time = (df['date'].max() - df['date'].min()).total_seconds()\n",
    "down_time = 2 * half_int * df_tmp.shape[0]\n",
    "\n",
    "(total_time - down_time) / total_time"
   ]
  },
  {
   "cell_type": "markdown",
   "metadata": {},
   "source": [
    "## Tegra daemon"
   ]
  },
  {
   "cell_type": "markdown",
   "metadata": {},
   "source": [
    "**Cameras connected to server**"
   ]
  },
  {
   "cell_type": "code",
   "execution_count": 634,
   "metadata": {},
   "outputs": [
    {
     "data": {
      "text/plain": [
       "['118', '12', '2', '60001', '7']"
      ]
     },
     "execution_count": 634,
     "metadata": {},
     "output_type": "execute_result"
    }
   ],
   "source": [
    "df_status['camera'].unique().tolist()"
   ]
  },
  {
   "cell_type": "markdown",
   "metadata": {},
   "source": [
    "**Available properties to analize**"
   ]
  },
  {
   "cell_type": "code",
   "execution_count": 635,
   "metadata": {},
   "outputs": [
    {
     "data": {
      "text/plain": [
       "array(['analog_gain', 'auto_analog_gain_enabled',\n",
       "       'auto_digital_gain_enabled', 'auto_exposure_enabled',\n",
       "       'auto_focus_gain_limit', 'auto_ir_filter_enabled',\n",
       "       'auto_model_generation_enabled',\n",
       "       'auto_model_generation_interval_seconds',\n",
       "       'auto_night_mode_disable_threshold',\n",
       "       'auto_night_mode_enable_threshold', 'auto_night_mode_enabled',\n",
       "       'auto_whitebalance', 'auto_whitebalance_interval_seconds',\n",
       "       'autofocus_algorithm', 'compression_quality_modes',\n",
       "       'data_routing_policy', 'day_mode_FPS', 'day_mode_denoising',\n",
       "       'day_mode_saturation', 'day_mode_sharpening',\n",
       "       'day_mode_whitebalance', 'denoising', 'digital_gain',\n",
       "       'exposure_absolute', 'exposure_time_milliseconds', 'focus_status',\n",
       "       'framerate', 'gain_absolute', 'host', 'id', 'ir_filter', 'kernel',\n",
       "       'mcam_state', 'mcams_connected', 'mcams_expected', 'microcameras',\n",
       "       'model', 'modelGen', 'model_generator_found', 'night_mode_FPS',\n",
       "       'night_mode_denoising', 'night_mode_saturation',\n",
       "       'night_mode_sharpening', 'night_mode_whitebalance',\n",
       "       'operating_mode', 'quality', 'saturation', 'serial_number',\n",
       "       'sharpening', 'software', 'state',\n",
       "       'supported_autofocus_algorithms', 'supported_framerates',\n",
       "       'supported_whitebalance_modes', 'system_auto_enabled',\n",
       "       'system_auto_interval', 'whitebalance_mode', 'camera', 'date',\n",
       "       'process', 'blue', 'green', 'red'], dtype=object)"
      ]
     },
     "execution_count": 635,
     "metadata": {},
     "output_type": "execute_result"
    }
   ],
   "source": [
    "df_status.columns.values"
   ]
  },
  {
   "cell_type": "markdown",
   "metadata": {},
   "source": [
    "**Connection stats per camera**"
   ]
  },
  {
   "cell_type": "code",
   "execution_count": 636,
   "metadata": {},
   "outputs": [],
   "source": [
    "df_status = pd.concat([df_status, df_status['mcam_state'].apply(lambda row: pd.Series(row))], axis=1) #.explode('mcam_state')\n",
    "df_status['mcams_lost'] = df_status['mcams_expected'] - df_status['mcams_connected']"
   ]
  },
  {
   "cell_type": "code",
   "execution_count": 645,
   "metadata": {},
   "outputs": [],
   "source": [
    "df_p = pd.pivot_table(df_status[['date', 'camera', 'mcams_lost']], values='mcams_lost', index=['date'], columns=['camera'], aggfunc=np.mean)"
   ]
  },
  {
   "cell_type": "code",
   "execution_count": 647,
   "metadata": {},
   "outputs": [
    {
     "data": {
      "text/plain": [
       "([<matplotlib.axis.YTick at 0x7fc793b417d0>,\n",
       "  <matplotlib.axis.YTick at 0x7fc793b348d0>,\n",
       "  <matplotlib.axis.YTick at 0x7fc793b18ed0>,\n",
       "  <matplotlib.axis.YTick at 0x7fcad25667d0>],\n",
       " [Text(0, 0, ''), Text(0, 0, ''), Text(0, 0, ''), Text(0, 0, '')])"
      ]
     },
     "execution_count": 647,
     "metadata": {},
     "output_type": "execute_result"
    },
    {
     "data": {
      "image/png": "[encoded data removed]",
      "text/plain": [
       "<Figure size 1152x288 with 1 Axes>"
      ]
     },
     "metadata": {
      "needs_background": "light"
     },
     "output_type": "display_data"
    }
   ],
   "source": [
    "df_p.plot.line(title=\"Lost mcams\", grid=True, figsize=(16, 4))\n",
    "plt.yticks(np.arange(0, 20, 5))"
   ]
  },
  {
   "cell_type": "markdown",
   "metadata": {},
   "source": [
    "**Plot**"
   ]
  },
  {
   "cell_type": "code",
   "execution_count": 648,
   "metadata": {},
   "outputs": [],
   "source": [
    "cams = df_status['camera'].unique().tolist()\n",
    "mcams = df_status['microcameras'].explode().dropna().unique().tolist()"
   ]
  },
  {
   "cell_type": "code",
   "execution_count": 649,
   "metadata": {},
   "outputs": [],
   "source": [
    "df_status[mcams] = df_status[mcams].replace({\"CONNECTED\": 1, \"NOT CONNECTED\": 0})"
   ]
  },
  {
   "cell_type": "code",
   "execution_count": 653,
   "metadata": {},
   "outputs": [
    {
     "data": {
      "image/png": "[encoded data removed]",
      "text/plain": [
       "<Figure size 1152x288 with 1 Axes>"
      ]
     },
     "metadata": {
      "needs_background": "light"
     },
     "output_type": "display_data"
    },
    {
     "data": {
      "image/png": "[encoded data removed]",
      "text/plain": [
       "<Figure size 1152x288 with 1 Axes>"
      ]
     },
     "metadata": {
      "needs_background": "light"
     },
     "output_type": "display_data"
    },
    {
     "data": {
      "image/png": "[encoded data removed]",
      "text/plain": [
       "<Figure size 1152x288 with 1 Axes>"
      ]
     },
     "metadata": {
      "needs_background": "light"
     },
     "output_type": "display_data"
    },
    {
     "data": {
      "image/png": "[encoded data removed]",
      "text/plain": [
       "<Figure size 1152x288 with 1 Axes>"
      ]
     },
     "metadata": {
      "needs_background": "light"
     },
     "output_type": "display_data"
    },
    {
     "data": {
      "image/png": "[encoded data removed]",
      "text/plain": [
       "<Figure size 1152x288 with 1 Axes>"
      ]
     },
     "metadata": {
      "needs_background": "light"
     },
     "output_type": "display_data"
    }
   ],
   "source": [
    "import matplotlib.dates as mdates\n",
    "\n",
    "for cam in cams:\n",
    "    plt.figure(figsize=(16, 4))\n",
    "    plt.xticks(rotation=90)\n",
    "    plt.ylim(-0.05, 1.05)\n",
    "    plt.grid()\n",
    "    plt.locator_params(axis='x', nbins=6)\n",
    "    plt.locator_params(axis='y', nbins=2)\n",
    "    plt.tight_layout()\n",
    "    plt.title(f'camera: {cam}')\n",
    "    #plt.gca().xaxis.set_major_formatter(mdates.DateFormatter('%Y-%m-%d %H:%M:%S'))\n",
    "    plt.gca().xaxis.set_major_locator(mdates.DayLocator(interval=100))\n",
    "    \n",
    "    for mcam in df_status[df_status['camera']==cam]['microcameras'].explode().dropna().unique().tolist():\n",
    "        df_tmp = df_status[df_status['camera']==cam][['date', mcam]].dropna()\n",
    "        plt.step(df_tmp['date'], df_tmp[mcam].values, label=mcam)\n",
    "        \n",
    "    plt.legend(loc=2, prop={'size': 7})\n",
    "    plt.gcf().autofmt_xdate()"
   ]
  },
  {
   "cell_type": "markdown",
   "metadata": {},
   "source": [
    "**Avg tegra daemon work time per tegra**"
   ]
  },
  {
   "cell_type": "code",
   "execution_count": 651,
   "metadata": {},
   "outputs": [
    {
     "data": {
      "text/html": [
       "<div>\n",
       "<style scoped>\n",
       "    .dataframe tbody tr th:only-of-type {\n",
       "        vertical-align: middle;\n",
       "    }\n",
       "\n",
       "    .dataframe tbody tr th {\n",
       "        vertical-align: top;\n",
       "    }\n",
       "\n",
       "    .dataframe thead th {\n",
       "        text-align: right;\n",
       "    }\n",
       "</style>\n",
       "<table border=\"1\" class=\"dataframe\">\n",
       "  <thead>\n",
       "    <tr style=\"text-align: right;\">\n",
       "      <th></th>\n",
       "      <th></th>\n",
       "      <th>work_time</th>\n",
       "    </tr>\n",
       "    <tr>\n",
       "      <th>camera</th>\n",
       "      <th>microcameras</th>\n",
       "      <th></th>\n",
       "    </tr>\n",
       "  </thead>\n",
       "  <tbody>\n",
       "    <tr>\n",
       "      <th rowspan=\"18\" valign=\"top\">12</th>\n",
       "      <th>XX00000000000000001201</th>\n",
       "      <td>0.990324</td>\n",
       "    </tr>\n",
       "    <tr>\n",
       "      <th>XX00000000000000001202</th>\n",
       "      <td>0.990324</td>\n",
       "    </tr>\n",
       "    <tr>\n",
       "      <th>XX00000000000000001203</th>\n",
       "      <td>0.995662</td>\n",
       "    </tr>\n",
       "    <tr>\n",
       "      <th>XX00000000000000001204</th>\n",
       "      <td>0.995662</td>\n",
       "    </tr>\n",
       "    <tr>\n",
       "      <th>XX00000000000000001205</th>\n",
       "      <td>0.990657</td>\n",
       "    </tr>\n",
       "    <tr>\n",
       "      <th>XX00000000000000001206</th>\n",
       "      <td>0.990657</td>\n",
       "    </tr>\n",
       "    <tr>\n",
       "      <th>XX00000000000000001207</th>\n",
       "      <td>0.993660</td>\n",
       "    </tr>\n",
       "    <tr>\n",
       "      <th>XX00000000000000001208</th>\n",
       "      <td>0.993660</td>\n",
       "    </tr>\n",
       "    <tr>\n",
       "      <th>XX00000000000000001209</th>\n",
       "      <td>0.993994</td>\n",
       "    </tr>\n",
       "    <tr>\n",
       "      <th>XX00000000000000012010</th>\n",
       "      <td>0.993994</td>\n",
       "    </tr>\n",
       "    <tr>\n",
       "      <th>XX00000000000000012011</th>\n",
       "      <td>0.991325</td>\n",
       "    </tr>\n",
       "    <tr>\n",
       "      <th>XX00000000000000012012</th>\n",
       "      <td>0.991325</td>\n",
       "    </tr>\n",
       "    <tr>\n",
       "      <th>XX00000000000000012013</th>\n",
       "      <td>0.990991</td>\n",
       "    </tr>\n",
       "    <tr>\n",
       "      <th>XX00000000000000012014</th>\n",
       "      <td>0.994661</td>\n",
       "    </tr>\n",
       "    <tr>\n",
       "      <th>XX00000000000000012015</th>\n",
       "      <td>0.989656</td>\n",
       "    </tr>\n",
       "    <tr>\n",
       "      <th>XX00000000000000012016</th>\n",
       "      <td>0.989656</td>\n",
       "    </tr>\n",
       "    <tr>\n",
       "      <th>XX00000000000000012017</th>\n",
       "      <td>0.431098</td>\n",
       "    </tr>\n",
       "    <tr>\n",
       "      <th>XX00000000000000012018</th>\n",
       "      <td>0.431098</td>\n",
       "    </tr>\n",
       "    <tr>\n",
       "      <th rowspan=\"17\" valign=\"top\">2</th>\n",
       "      <th>EA00274000350003500100</th>\n",
       "      <td>0.993364</td>\n",
       "    </tr>\n",
       "    <tr>\n",
       "      <th>EA00274002500025000011</th>\n",
       "      <td>0.996350</td>\n",
       "    </tr>\n",
       "    <tr>\n",
       "      <th>EA00274002500025000012</th>\n",
       "      <td>0.996350</td>\n",
       "    </tr>\n",
       "    <tr>\n",
       "      <th>EA00274002500025000021</th>\n",
       "      <td>0.991705</td>\n",
       "    </tr>\n",
       "    <tr>\n",
       "      <th>EA00274002500025000022</th>\n",
       "      <td>0.991705</td>\n",
       "    </tr>\n",
       "    <tr>\n",
       "      <th>EA00274002500025000031</th>\n",
       "      <td>0.991374</td>\n",
       "    </tr>\n",
       "    <tr>\n",
       "      <th>EA00274002500025000032</th>\n",
       "      <td>0.991374</td>\n",
       "    </tr>\n",
       "    <tr>\n",
       "      <th>EA00274002500025000041</th>\n",
       "      <td>0.996682</td>\n",
       "    </tr>\n",
       "    <tr>\n",
       "      <th>EA00274002500025000042</th>\n",
       "      <td>0.996682</td>\n",
       "    </tr>\n",
       "    <tr>\n",
       "      <th>EA00274002500025000061</th>\n",
       "      <td>0.995687</td>\n",
       "    </tr>\n",
       "    <tr>\n",
       "      <th>EA00274002500025000062</th>\n",
       "      <td>0.995687</td>\n",
       "    </tr>\n",
       "    <tr>\n",
       "      <th>EA00274002500025000071</th>\n",
       "      <td>0.995355</td>\n",
       "    </tr>\n",
       "    <tr>\n",
       "      <th>EA00274002500025000072</th>\n",
       "      <td>0.995355</td>\n",
       "    </tr>\n",
       "    <tr>\n",
       "      <th>EA00274002500025000081</th>\n",
       "      <td>0.992701</td>\n",
       "    </tr>\n",
       "    <tr>\n",
       "      <th>EA00274002500025000082</th>\n",
       "      <td>0.992701</td>\n",
       "    </tr>\n",
       "    <tr>\n",
       "      <th>EA00274002500025000091</th>\n",
       "      <td>0.993364</td>\n",
       "    </tr>\n",
       "    <tr>\n",
       "      <th>EA00274002500025000092</th>\n",
       "      <td>0.993364</td>\n",
       "    </tr>\n",
       "    <tr>\n",
       "      <th rowspan=\"15\" valign=\"top\">7</th>\n",
       "      <th>XX00000000000000000701</th>\n",
       "      <td>0.996322</td>\n",
       "    </tr>\n",
       "    <tr>\n",
       "      <th>XX00000000000000000702</th>\n",
       "      <td>0.996322</td>\n",
       "    </tr>\n",
       "    <tr>\n",
       "      <th>XX00000000000000000703</th>\n",
       "      <td>0.992645</td>\n",
       "    </tr>\n",
       "    <tr>\n",
       "      <th>XX00000000000000000704</th>\n",
       "      <td>0.992645</td>\n",
       "    </tr>\n",
       "    <tr>\n",
       "      <th>XX00000000000000000705</th>\n",
       "      <td>0.995654</td>\n",
       "    </tr>\n",
       "    <tr>\n",
       "      <th>XX00000000000000000706</th>\n",
       "      <td>0.995654</td>\n",
       "    </tr>\n",
       "    <tr>\n",
       "      <th>XX00000000000000000707</th>\n",
       "      <td>0.992979</td>\n",
       "    </tr>\n",
       "    <tr>\n",
       "      <th>XX00000000000000000708</th>\n",
       "      <td>0.992979</td>\n",
       "    </tr>\n",
       "    <tr>\n",
       "      <th>XX00000000000000000709</th>\n",
       "      <td>0.993982</td>\n",
       "    </tr>\n",
       "    <tr>\n",
       "      <th>XX00000000000000007010</th>\n",
       "      <td>0.993982</td>\n",
       "    </tr>\n",
       "    <tr>\n",
       "      <th>XX00000000000000007011</th>\n",
       "      <td>0.991976</td>\n",
       "    </tr>\n",
       "    <tr>\n",
       "      <th>XX00000000000000007012</th>\n",
       "      <td>0.991976</td>\n",
       "    </tr>\n",
       "    <tr>\n",
       "      <th>XX00000000000000007013</th>\n",
       "      <td>0.995319</td>\n",
       "    </tr>\n",
       "    <tr>\n",
       "      <th>XX00000000000000007014</th>\n",
       "      <td>0.995319</td>\n",
       "    </tr>\n",
       "    <tr>\n",
       "      <th>XX00000000000000007015</th>\n",
       "      <td>0.995654</td>\n",
       "    </tr>\n",
       "  </tbody>\n",
       "</table>\n",
       "</div>"
      ],
      "text/plain": [
       "                               work_time\n",
       "camera microcameras                     \n",
       "12     XX00000000000000001201   0.990324\n",
       "       XX00000000000000001202   0.990324\n",
       "       XX00000000000000001203   0.995662\n",
       "       XX00000000000000001204   0.995662\n",
       "       XX00000000000000001205   0.990657\n",
       "       XX00000000000000001206   0.990657\n",
       "       XX00000000000000001207   0.993660\n",
       "       XX00000000000000001208   0.993660\n",
       "       XX00000000000000001209   0.993994\n",
       "       XX00000000000000012010   0.993994\n",
       "       XX00000000000000012011   0.991325\n",
       "       XX00000000000000012012   0.991325\n",
       "       XX00000000000000012013   0.990991\n",
       "       XX00000000000000012014   0.994661\n",
       "       XX00000000000000012015   0.989656\n",
       "       XX00000000000000012016   0.989656\n",
       "       XX00000000000000012017   0.431098\n",
       "       XX00000000000000012018   0.431098\n",
       "2      EA00274000350003500100   0.993364\n",
       "       EA00274002500025000011   0.996350\n",
       "       EA00274002500025000012   0.996350\n",
       "       EA00274002500025000021   0.991705\n",
       "       EA00274002500025000022   0.991705\n",
       "       EA00274002500025000031   0.991374\n",
       "       EA00274002500025000032   0.991374\n",
       "       EA00274002500025000041   0.996682\n",
       "       EA00274002500025000042   0.996682\n",
       "       EA00274002500025000061   0.995687\n",
       "       EA00274002500025000062   0.995687\n",
       "       EA00274002500025000071   0.995355\n",
       "       EA00274002500025000072   0.995355\n",
       "       EA00274002500025000081   0.992701\n",
       "       EA00274002500025000082   0.992701\n",
       "       EA00274002500025000091   0.993364\n",
       "       EA00274002500025000092   0.993364\n",
       "7      XX00000000000000000701   0.996322\n",
       "       XX00000000000000000702   0.996322\n",
       "       XX00000000000000000703   0.992645\n",
       "       XX00000000000000000704   0.992645\n",
       "       XX00000000000000000705   0.995654\n",
       "       XX00000000000000000706   0.995654\n",
       "       XX00000000000000000707   0.992979\n",
       "       XX00000000000000000708   0.992979\n",
       "       XX00000000000000000709   0.993982\n",
       "       XX00000000000000007010   0.993982\n",
       "       XX00000000000000007011   0.991976\n",
       "       XX00000000000000007012   0.991976\n",
       "       XX00000000000000007013   0.995319\n",
       "       XX00000000000000007014   0.995319\n",
       "       XX00000000000000007015   0.995654"
      ]
     },
     "execution_count": 651,
     "metadata": {},
     "output_type": "execute_result"
    }
   ],
   "source": [
    "df_tmp_m = df_status[['camera', 'microcameras']].explode('microcameras').dropna().groupby(['camera', 'microcameras']).count()\n",
    "df_tmp_s = df_status[mcams].mean()\n",
    "df_tmp_m['work_time'] = np.nan\n",
    "df_tmp_m['work_time'] = df_tmp_m.apply(lambda row: df_tmp_s[row.name[-1]], axis=1)\n",
    "df_tmp_m[df_tmp_m['work_time'] > 0].head(50) #only connected cameras are displayed"
   ]
  },
  {
   "cell_type": "markdown",
   "metadata": {},
   "source": [
    "**Percent of time tegra daemons were down**"
   ]
  },
  {
   "cell_type": "code",
   "execution_count": 652,
   "metadata": {},
   "outputs": [
    {
     "data": {
      "text/plain": [
       "work_time    0.972868\n",
       "dtype: float64"
      ]
     },
     "execution_count": 652,
     "metadata": {},
     "output_type": "execute_result"
    }
   ],
   "source": [
    "#connected cameras only\n",
    "\n",
    "df_tmp_m[df_tmp_m['work_time'] > 0].mean()"
   ]
  },
  {
   "cell_type": "markdown",
   "metadata": {},
   "source": [
    "-----------"
   ]
  },
  {
   "cell_type": "markdown",
   "metadata": {},
   "source": [
    "## Render streams"
   ]
  },
  {
   "cell_type": "code",
   "execution_count": 654,
   "metadata": {},
   "outputs": [],
   "source": [
    "import warnings\n",
    "warnings.simplefilter(action='ignore', category=FutureWarning)"
   ]
  },
  {
   "cell_type": "code",
   "execution_count": 655,
   "metadata": {},
   "outputs": [
    {
     "name": "stderr",
     "output_type": "stream",
     "text": [
      "/home/astepenko/py37-venv/lib/python3.7/site-packages/ipykernel_launcher.py:2: SettingWithCopyWarning: \n",
      "A value is trying to be set on a copy of a slice from a DataFrame.\n",
      "Try using .loc[row_indexer,col_indexer] = value instead\n",
      "\n",
      "See the caveats in the documentation: https://pandas.pydata.org/pandas-docs/stable/user_guide/indexing.html#returning-a-view-versus-a-copy\n",
      "  \n",
      "/home/astepenko/py37-venv/lib/python3.7/site-packages/pandas/core/frame.py:4449: SettingWithCopyWarning: \n",
      "A value is trying to be set on a copy of a slice from a DataFrame\n",
      "\n",
      "See the caveats in the documentation: https://pandas.pydata.org/pandas-docs/stable/user_guide/indexing.html#returning-a-view-versus-a-copy\n",
      "  errors=errors,\n"
     ]
    }
   ],
   "source": [
    "df_s = df[df['method'].isin(['RenderStream', '~RenderStream']) & df['content'].str.contains('Constructed|Destructed', regex=True)]\n",
    "df_s['is_constructed'] = df_s['content'].apply(lambda row: 'constructed' if 'Constructed' in row else 'destructed')\n",
    "df_s.rename(columns={'module_id': 'stream_id'}, inplace=True)"
   ]
  },
  {
   "cell_type": "code",
   "execution_count": 657,
   "metadata": {},
   "outputs": [
    {
     "data": {
      "text/html": [
       "<div>\n",
       "<style scoped>\n",
       "    .dataframe tbody tr th:only-of-type {\n",
       "        vertical-align: middle;\n",
       "    }\n",
       "\n",
       "    .dataframe tbody tr th {\n",
       "        vertical-align: top;\n",
       "    }\n",
       "\n",
       "    .dataframe thead th {\n",
       "        text-align: right;\n",
       "    }\n",
       "</style>\n",
       "<table border=\"1\" class=\"dataframe\">\n",
       "  <thead>\n",
       "    <tr style=\"text-align: right;\">\n",
       "      <th>is_constructed</th>\n",
       "      <th>constructed</th>\n",
       "      <th>destructed</th>\n",
       "      <th>delta</th>\n",
       "    </tr>\n",
       "    <tr>\n",
       "      <th>stream_id</th>\n",
       "      <th></th>\n",
       "      <th></th>\n",
       "      <th></th>\n",
       "    </tr>\n",
       "  </thead>\n",
       "  <tbody>\n",
       "    <tr>\n",
       "      <th>vFjwN6DrG</th>\n",
       "      <td>2021-04-20 17:02:52</td>\n",
       "      <td>2021-04-20 17:03:01</td>\n",
       "      <td>0 days 00:00:09</td>\n",
       "    </tr>\n",
       "    <tr>\n",
       "      <th>vdMML9VHp</th>\n",
       "      <td>2021-04-20 16:52:14</td>\n",
       "      <td>2021-04-20 16:52:32</td>\n",
       "      <td>0 days 00:00:18</td>\n",
       "    </tr>\n",
       "    <tr>\n",
       "      <th>vswRA6s0s</th>\n",
       "      <td>2021-04-20 16:51:28</td>\n",
       "      <td>2021-04-20 16:51:49</td>\n",
       "      <td>0 days 00:00:21</td>\n",
       "    </tr>\n",
       "    <tr>\n",
       "      <th>vxea0XuQi</th>\n",
       "      <td>2021-04-20 19:30:16</td>\n",
       "      <td>2021-04-20 19:30:36</td>\n",
       "      <td>0 days 00:00:20</td>\n",
       "    </tr>\n",
       "    <tr>\n",
       "      <th>w6yarPGpm</th>\n",
       "      <td>2021-04-20 16:53:40</td>\n",
       "      <td>2021-04-20 16:54:00</td>\n",
       "      <td>0 days 00:00:20</td>\n",
       "    </tr>\n",
       "    <tr>\n",
       "      <th>wbo0g7YdQ</th>\n",
       "      <td>2021-04-20 11:58:16</td>\n",
       "      <td>2021-04-20 15:00:19</td>\n",
       "      <td>0 days 03:02:03</td>\n",
       "    </tr>\n",
       "    <tr>\n",
       "      <th>weef3DlOp</th>\n",
       "      <td>2021-04-20 17:13:47</td>\n",
       "      <td>2021-04-20 17:14:04</td>\n",
       "      <td>0 days 00:00:17</td>\n",
       "    </tr>\n",
       "    <tr>\n",
       "      <th>x7t4pQdni</th>\n",
       "      <td>2021-04-20 19:29:14</td>\n",
       "      <td>2021-04-20 19:29:29</td>\n",
       "      <td>0 days 00:00:15</td>\n",
       "    </tr>\n",
       "    <tr>\n",
       "      <th>xKrGsNEjz</th>\n",
       "      <td>2021-04-20 16:58:50</td>\n",
       "      <td>2021-04-20 16:59:07</td>\n",
       "      <td>0 days 00:00:17</td>\n",
       "    </tr>\n",
       "    <tr>\n",
       "      <th>xQxzgQZzd</th>\n",
       "      <td>2021-04-20 16:59:10</td>\n",
       "      <td>2021-04-20 16:59:31</td>\n",
       "      <td>0 days 00:00:21</td>\n",
       "    </tr>\n",
       "    <tr>\n",
       "      <th>xhyp6fVXh</th>\n",
       "      <td>2021-04-20 17:01:42</td>\n",
       "      <td>2021-04-20 17:02:02</td>\n",
       "      <td>0 days 00:00:20</td>\n",
       "    </tr>\n",
       "    <tr>\n",
       "      <th>xkQFmMkqk</th>\n",
       "      <td>2021-04-20 18:50:53</td>\n",
       "      <td>NaT</td>\n",
       "      <td>NaT</td>\n",
       "    </tr>\n",
       "    <tr>\n",
       "      <th>yBCAqL9Wj</th>\n",
       "      <td>2021-04-20 10:28:01</td>\n",
       "      <td>2021-04-20 10:28:24</td>\n",
       "      <td>0 days 00:00:23</td>\n",
       "    </tr>\n",
       "    <tr>\n",
       "      <th>yWX06QjbP</th>\n",
       "      <td>2021-04-20 17:11:57</td>\n",
       "      <td>2021-04-20 17:12:19</td>\n",
       "      <td>0 days 00:00:22</td>\n",
       "    </tr>\n",
       "    <tr>\n",
       "      <th>yitxzBuQR</th>\n",
       "      <td>2021-04-20 17:17:00</td>\n",
       "      <td>2021-04-20 17:17:14</td>\n",
       "      <td>0 days 00:00:14</td>\n",
       "    </tr>\n",
       "    <tr>\n",
       "      <th>yohHqh3cl</th>\n",
       "      <td>2021-04-20 19:34:05</td>\n",
       "      <td>2021-04-20 19:34:23</td>\n",
       "      <td>0 days 00:00:18</td>\n",
       "    </tr>\n",
       "    <tr>\n",
       "      <th>yphJOQ0YX</th>\n",
       "      <td>2021-04-20 17:19:46</td>\n",
       "      <td>2021-04-20 17:20:04</td>\n",
       "      <td>0 days 00:00:18</td>\n",
       "    </tr>\n",
       "    <tr>\n",
       "      <th>z5RuGzMaA</th>\n",
       "      <td>2021-04-20 17:10:57</td>\n",
       "      <td>2021-04-20 17:11:43</td>\n",
       "      <td>0 days 00:00:46</td>\n",
       "    </tr>\n",
       "    <tr>\n",
       "      <th>zsidMHp4b</th>\n",
       "      <td>2021-04-20 17:06:11</td>\n",
       "      <td>2021-04-20 17:06:31</td>\n",
       "      <td>0 days 00:00:20</td>\n",
       "    </tr>\n",
       "    <tr>\n",
       "      <th>zxwh1YkCc</th>\n",
       "      <td>2021-04-20 16:54:04</td>\n",
       "      <td>2021-04-20 16:54:21</td>\n",
       "      <td>0 days 00:00:17</td>\n",
       "    </tr>\n",
       "  </tbody>\n",
       "</table>\n",
       "</div>"
      ],
      "text/plain": [
       "is_constructed         constructed          destructed           delta\n",
       "stream_id                                                             \n",
       "vFjwN6DrG      2021-04-20 17:02:52 2021-04-20 17:03:01 0 days 00:00:09\n",
       "vdMML9VHp      2021-04-20 16:52:14 2021-04-20 16:52:32 0 days 00:00:18\n",
       "vswRA6s0s      2021-04-20 16:51:28 2021-04-20 16:51:49 0 days 00:00:21\n",
       "vxea0XuQi      2021-04-20 19:30:16 2021-04-20 19:30:36 0 days 00:00:20\n",
       "w6yarPGpm      2021-04-20 16:53:40 2021-04-20 16:54:00 0 days 00:00:20\n",
       "wbo0g7YdQ      2021-04-20 11:58:16 2021-04-20 15:00:19 0 days 03:02:03\n",
       "weef3DlOp      2021-04-20 17:13:47 2021-04-20 17:14:04 0 days 00:00:17\n",
       "x7t4pQdni      2021-04-20 19:29:14 2021-04-20 19:29:29 0 days 00:00:15\n",
       "xKrGsNEjz      2021-04-20 16:58:50 2021-04-20 16:59:07 0 days 00:00:17\n",
       "xQxzgQZzd      2021-04-20 16:59:10 2021-04-20 16:59:31 0 days 00:00:21\n",
       "xhyp6fVXh      2021-04-20 17:01:42 2021-04-20 17:02:02 0 days 00:00:20\n",
       "xkQFmMkqk      2021-04-20 18:50:53                 NaT             NaT\n",
       "yBCAqL9Wj      2021-04-20 10:28:01 2021-04-20 10:28:24 0 days 00:00:23\n",
       "yWX06QjbP      2021-04-20 17:11:57 2021-04-20 17:12:19 0 days 00:00:22\n",
       "yitxzBuQR      2021-04-20 17:17:00 2021-04-20 17:17:14 0 days 00:00:14\n",
       "yohHqh3cl      2021-04-20 19:34:05 2021-04-20 19:34:23 0 days 00:00:18\n",
       "yphJOQ0YX      2021-04-20 17:19:46 2021-04-20 17:20:04 0 days 00:00:18\n",
       "z5RuGzMaA      2021-04-20 17:10:57 2021-04-20 17:11:43 0 days 00:00:46\n",
       "zsidMHp4b      2021-04-20 17:06:11 2021-04-20 17:06:31 0 days 00:00:20\n",
       "zxwh1YkCc      2021-04-20 16:54:04 2021-04-20 16:54:21 0 days 00:00:17"
      ]
     },
     "execution_count": 657,
     "metadata": {},
     "output_type": "execute_result"
    }
   ],
   "source": [
    "df_s_pt = pd.pivot_table(df_s, values='date', index=['stream_id'], columns=['is_constructed'], aggfunc=np.min)\n",
    "df_s_pt['delta'] = df_s_pt['destructed'] - df_s_pt['constructed']\n",
    "df_s_pt.tail(20)"
   ]
  },
  {
   "cell_type": "markdown",
   "metadata": {},
   "source": [
    "## Received frames"
   ]
  },
  {
   "cell_type": "markdown",
   "metadata": {},
   "source": [
    "**Obtaining dataframe**"
   ]
  },
  {
   "cell_type": "code",
   "execution_count": 658,
   "metadata": {},
   "outputs": [
    {
     "name": "stderr",
     "output_type": "stream",
     "text": [
      "/home/astepenko/py37-venv/lib/python3.7/site-packages/ipykernel_launcher.py:2: SettingWithCopyWarning: \n",
      "A value is trying to be set on a copy of a slice from a DataFrame.\n",
      "Try using .loc[row_indexer,col_indexer] = value instead\n",
      "\n",
      "See the caveats in the documentation: https://pandas.pydata.org/pandas-docs/stable/user_guide/indexing.html#returning-a-view-versus-a-copy\n",
      "  \n"
     ]
    }
   ],
   "source": [
    "df_n = df[df['method'] == 'FrameRequestHandler']\n",
    "df_n['content'] = df_n['content'].apply(lambda row: dict(zip(['frames_total', 'frames_succeeded', 'frames_bad', 'frames_failed', 'frames_invalid_fps'], list(map(int, re.findall(r\"\\d+\", row))))))\n",
    "df_n = pd.concat([df_n, df_n['content'].apply(pd.Series)], axis=1)\n",
    "df_n.rename(columns={'module_id': 'stream_id'}, inplace=True)"
   ]
  },
  {
   "cell_type": "code",
   "execution_count": 659,
   "metadata": {},
   "outputs": [
    {
     "data": {
      "text/html": [
       "<div>\n",
       "<style scoped>\n",
       "    .dataframe tbody tr th:only-of-type {\n",
       "        vertical-align: middle;\n",
       "    }\n",
       "\n",
       "    .dataframe tbody tr th {\n",
       "        vertical-align: top;\n",
       "    }\n",
       "\n",
       "    .dataframe thead th {\n",
       "        text-align: right;\n",
       "    }\n",
       "</style>\n",
       "<table border=\"1\" class=\"dataframe\">\n",
       "  <thead>\n",
       "    <tr style=\"text-align: right;\">\n",
       "      <th></th>\n",
       "      <th>date</th>\n",
       "      <th>stream_id</th>\n",
       "      <th>frames_total</th>\n",
       "      <th>frames_succeeded</th>\n",
       "      <th>frames_bad</th>\n",
       "      <th>frames_failed</th>\n",
       "      <th>frames_invalid_fps</th>\n",
       "    </tr>\n",
       "  </thead>\n",
       "  <tbody>\n",
       "    <tr>\n",
       "      <th>2816804</th>\n",
       "      <td>2021-04-20 09:05:23</td>\n",
       "      <td>iF69RBHVh</td>\n",
       "      <td>5001</td>\n",
       "      <td>769</td>\n",
       "      <td>0</td>\n",
       "      <td>4232</td>\n",
       "      <td>7</td>\n",
       "    </tr>\n",
       "    <tr>\n",
       "      <th>2816850</th>\n",
       "      <td>2021-04-20 09:05:24</td>\n",
       "      <td>4Hf6dcjJo</td>\n",
       "      <td>5001</td>\n",
       "      <td>799</td>\n",
       "      <td>0</td>\n",
       "      <td>4202</td>\n",
       "      <td>14</td>\n",
       "    </tr>\n",
       "    <tr>\n",
       "      <th>2817148</th>\n",
       "      <td>2021-04-20 09:05:26</td>\n",
       "      <td>iF69RBHVh</td>\n",
       "      <td>5001</td>\n",
       "      <td>467</td>\n",
       "      <td>0</td>\n",
       "      <td>4534</td>\n",
       "      <td>0</td>\n",
       "    </tr>\n",
       "    <tr>\n",
       "      <th>2817233</th>\n",
       "      <td>2021-04-20 09:05:28</td>\n",
       "      <td>4Hf6dcjJo</td>\n",
       "      <td>5001</td>\n",
       "      <td>374</td>\n",
       "      <td>0</td>\n",
       "      <td>4627</td>\n",
       "      <td>0</td>\n",
       "    </tr>\n",
       "    <tr>\n",
       "      <th>2817237</th>\n",
       "      <td>2021-04-20 09:05:28</td>\n",
       "      <td>mV2dvOm2C</td>\n",
       "      <td>5001</td>\n",
       "      <td>915</td>\n",
       "      <td>0</td>\n",
       "      <td>4086</td>\n",
       "      <td>2</td>\n",
       "    </tr>\n",
       "    <tr>\n",
       "      <th>...</th>\n",
       "      <td>...</td>\n",
       "      <td>...</td>\n",
       "      <td>...</td>\n",
       "      <td>...</td>\n",
       "      <td>...</td>\n",
       "      <td>...</td>\n",
       "      <td>...</td>\n",
       "    </tr>\n",
       "    <tr>\n",
       "      <th>12729664</th>\n",
       "      <td>2021-04-20 21:10:04</td>\n",
       "      <td>GGIVfsVBZ</td>\n",
       "      <td>5001</td>\n",
       "      <td>4998</td>\n",
       "      <td>0</td>\n",
       "      <td>3</td>\n",
       "      <td>0</td>\n",
       "    </tr>\n",
       "    <tr>\n",
       "      <th>12729854</th>\n",
       "      <td>2021-04-20 21:10:06</td>\n",
       "      <td>mLMegJnBC</td>\n",
       "      <td>5001</td>\n",
       "      <td>557</td>\n",
       "      <td>0</td>\n",
       "      <td>4444</td>\n",
       "      <td>0</td>\n",
       "    </tr>\n",
       "    <tr>\n",
       "      <th>12731325</th>\n",
       "      <td>2021-04-20 21:10:13</td>\n",
       "      <td>20MymqiDg</td>\n",
       "      <td>5001</td>\n",
       "      <td>849</td>\n",
       "      <td>0</td>\n",
       "      <td>4152</td>\n",
       "      <td>0</td>\n",
       "    </tr>\n",
       "    <tr>\n",
       "      <th>12731886</th>\n",
       "      <td>2021-04-20 21:10:15</td>\n",
       "      <td>mLMegJnBC</td>\n",
       "      <td>5001</td>\n",
       "      <td>527</td>\n",
       "      <td>0</td>\n",
       "      <td>4474</td>\n",
       "      <td>0</td>\n",
       "    </tr>\n",
       "    <tr>\n",
       "      <th>12734800</th>\n",
       "      <td>2021-04-20 21:10:23</td>\n",
       "      <td>mLMegJnBC</td>\n",
       "      <td>5001</td>\n",
       "      <td>529</td>\n",
       "      <td>0</td>\n",
       "      <td>4472</td>\n",
       "      <td>0</td>\n",
       "    </tr>\n",
       "  </tbody>\n",
       "</table>\n",
       "<p>15333 rows × 7 columns</p>\n",
       "</div>"
      ],
      "text/plain": [
       "                        date  stream_id  frames_total  frames_succeeded  \\\n",
       "2816804  2021-04-20 09:05:23  iF69RBHVh          5001               769   \n",
       "2816850  2021-04-20 09:05:24  4Hf6dcjJo          5001               799   \n",
       "2817148  2021-04-20 09:05:26  iF69RBHVh          5001               467   \n",
       "2817233  2021-04-20 09:05:28  4Hf6dcjJo          5001               374   \n",
       "2817237  2021-04-20 09:05:28  mV2dvOm2C          5001               915   \n",
       "...                      ...        ...           ...               ...   \n",
       "12729664 2021-04-20 21:10:04  GGIVfsVBZ          5001              4998   \n",
       "12729854 2021-04-20 21:10:06  mLMegJnBC          5001               557   \n",
       "12731325 2021-04-20 21:10:13  20MymqiDg          5001               849   \n",
       "12731886 2021-04-20 21:10:15  mLMegJnBC          5001               527   \n",
       "12734800 2021-04-20 21:10:23  mLMegJnBC          5001               529   \n",
       "\n",
       "          frames_bad  frames_failed  frames_invalid_fps  \n",
       "2816804            0           4232                   7  \n",
       "2816850            0           4202                  14  \n",
       "2817148            0           4534                   0  \n",
       "2817233            0           4627                   0  \n",
       "2817237            0           4086                   2  \n",
       "...              ...            ...                 ...  \n",
       "12729664           0              3                   0  \n",
       "12729854           0           4444                   0  \n",
       "12731325           0           4152                   0  \n",
       "12731886           0           4474                   0  \n",
       "12734800           0           4472                   0  \n",
       "\n",
       "[15333 rows x 7 columns]"
      ]
     },
     "execution_count": 659,
     "metadata": {},
     "output_type": "execute_result"
    }
   ],
   "source": [
    "df_n[['date', 'stream_id', 'frames_total', 'frames_succeeded', 'frames_bad', 'frames_failed', 'frames_invalid_fps']]"
   ]
  },
  {
   "cell_type": "code",
   "execution_count": 660,
   "metadata": {},
   "outputs": [],
   "source": [
    "df_n['frames_succeeded_rel'] = df_n['frames_succeeded'] / df_n['frames_total']\n",
    "df_n['frames_bad_rel'] = df_n['frames_bad'] /df_n['frames_total']\n",
    "df_n['frames_failed_rel'] = df_n['frames_failed'] / df_n['frames_total']\n",
    "df_n['frames_invalid_fps_rel'] = df_n['frames_invalid_fps'] / df_n['frames_total']"
   ]
  },
  {
   "cell_type": "markdown",
   "metadata": {},
   "source": [
    "**Stacked bar plot of received frames**"
   ]
  },
  {
   "cell_type": "code",
   "execution_count": 668,
   "metadata": {},
   "outputs": [
    {
     "data": {
      "text/html": [
       "<div>\n",
       "<style scoped>\n",
       "    .dataframe tbody tr th:only-of-type {\n",
       "        vertical-align: middle;\n",
       "    }\n",
       "\n",
       "    .dataframe tbody tr th {\n",
       "        vertical-align: top;\n",
       "    }\n",
       "\n",
       "    .dataframe thead th {\n",
       "        text-align: right;\n",
       "    }\n",
       "</style>\n",
       "<table border=\"1\" class=\"dataframe\">\n",
       "  <thead>\n",
       "    <tr style=\"text-align: right;\">\n",
       "      <th></th>\n",
       "      <th>frames_succeeded_rel</th>\n",
       "      <th>frames_bad_rel</th>\n",
       "      <th>frames_failed_rel</th>\n",
       "      <th>frames_invalid_fps_rel</th>\n",
       "      <th>frames_succeeded</th>\n",
       "      <th>frames_bad</th>\n",
       "      <th>frames_failed</th>\n",
       "      <th>frames_invalid_fps</th>\n",
       "    </tr>\n",
       "    <tr>\n",
       "      <th>stream_id</th>\n",
       "      <th></th>\n",
       "      <th></th>\n",
       "      <th></th>\n",
       "      <th></th>\n",
       "      <th></th>\n",
       "      <th></th>\n",
       "      <th></th>\n",
       "      <th></th>\n",
       "    </tr>\n",
       "  </thead>\n",
       "  <tbody>\n",
       "    <tr>\n",
       "      <th>1oNVFF8z5</th>\n",
       "      <td>0.113318</td>\n",
       "      <td>0.0</td>\n",
       "      <td>0.886682</td>\n",
       "      <td>3.615913e-07</td>\n",
       "      <td>566.701627</td>\n",
       "      <td>0.0</td>\n",
       "      <td>4434.298373</td>\n",
       "      <td>0.001808</td>\n",
       "    </tr>\n",
       "    <tr>\n",
       "      <th>20MymqiDg</th>\n",
       "      <td>0.417032</td>\n",
       "      <td>0.0</td>\n",
       "      <td>0.582966</td>\n",
       "      <td>2.156431e-05</td>\n",
       "      <td>2085.578431</td>\n",
       "      <td>0.0</td>\n",
       "      <td>2915.411765</td>\n",
       "      <td>0.107843</td>\n",
       "    </tr>\n",
       "    <tr>\n",
       "      <th>2iiRw70nR</th>\n",
       "      <td>0.043216</td>\n",
       "      <td>0.0</td>\n",
       "      <td>0.956787</td>\n",
       "      <td>4.686563e-05</td>\n",
       "      <td>216.125000</td>\n",
       "      <td>0.0</td>\n",
       "      <td>4784.890625</td>\n",
       "      <td>0.234375</td>\n",
       "    </tr>\n",
       "    <tr>\n",
       "      <th>32k3eKSfF</th>\n",
       "      <td>0.168366</td>\n",
       "      <td>0.0</td>\n",
       "      <td>0.831634</td>\n",
       "      <td>1.999600e-04</td>\n",
       "      <td>842.000000</td>\n",
       "      <td>0.0</td>\n",
       "      <td>4159.000000</td>\n",
       "      <td>1.000000</td>\n",
       "    </tr>\n",
       "    <tr>\n",
       "      <th>3kYajer3Y</th>\n",
       "      <td>0.067244</td>\n",
       "      <td>0.0</td>\n",
       "      <td>0.932756</td>\n",
       "      <td>6.343277e-02</td>\n",
       "      <td>336.287879</td>\n",
       "      <td>0.0</td>\n",
       "      <td>4664.712121</td>\n",
       "      <td>317.227273</td>\n",
       "    </tr>\n",
       "    <tr>\n",
       "      <th>4Hf6dcjJo</th>\n",
       "      <td>0.042904</td>\n",
       "      <td>0.0</td>\n",
       "      <td>0.957095</td>\n",
       "      <td>2.086021e-06</td>\n",
       "      <td>214.564829</td>\n",
       "      <td>0.0</td>\n",
       "      <td>4786.432936</td>\n",
       "      <td>0.010432</td>\n",
       "    </tr>\n",
       "    <tr>\n",
       "      <th>5rBRjYRsZ</th>\n",
       "      <td>0.153460</td>\n",
       "      <td>0.0</td>\n",
       "      <td>0.846540</td>\n",
       "      <td>1.636036e-04</td>\n",
       "      <td>767.454545</td>\n",
       "      <td>0.0</td>\n",
       "      <td>4233.545455</td>\n",
       "      <td>0.818182</td>\n",
       "    </tr>\n",
       "    <tr>\n",
       "      <th>74VJiYKTi</th>\n",
       "      <td>0.111560</td>\n",
       "      <td>0.0</td>\n",
       "      <td>0.888437</td>\n",
       "      <td>7.141429e-06</td>\n",
       "      <td>557.910714</td>\n",
       "      <td>0.0</td>\n",
       "      <td>4443.071429</td>\n",
       "      <td>0.035714</td>\n",
       "    </tr>\n",
       "    <tr>\n",
       "      <th>93eBAYy3W</th>\n",
       "      <td>0.076290</td>\n",
       "      <td>0.0</td>\n",
       "      <td>0.923710</td>\n",
       "      <td>2.104842e-05</td>\n",
       "      <td>381.526316</td>\n",
       "      <td>0.0</td>\n",
       "      <td>4619.473684</td>\n",
       "      <td>0.105263</td>\n",
       "    </tr>\n",
       "    <tr>\n",
       "      <th>AyDMbfWEO</th>\n",
       "      <td>1.000000</td>\n",
       "      <td>0.0</td>\n",
       "      <td>0.000000</td>\n",
       "      <td>3.999200e-04</td>\n",
       "      <td>5001.000000</td>\n",
       "      <td>0.0</td>\n",
       "      <td>0.000000</td>\n",
       "      <td>2.000000</td>\n",
       "    </tr>\n",
       "    <tr>\n",
       "      <th>DnRcgcTLK</th>\n",
       "      <td>0.106191</td>\n",
       "      <td>0.0</td>\n",
       "      <td>0.893808</td>\n",
       "      <td>1.793363e-06</td>\n",
       "      <td>531.062780</td>\n",
       "      <td>0.0</td>\n",
       "      <td>4469.932735</td>\n",
       "      <td>0.008969</td>\n",
       "    </tr>\n",
       "    <tr>\n",
       "      <th>Ep2BolkSW</th>\n",
       "      <td>0.075039</td>\n",
       "      <td>0.0</td>\n",
       "      <td>0.924956</td>\n",
       "      <td>3.783027e-05</td>\n",
       "      <td>375.270270</td>\n",
       "      <td>0.0</td>\n",
       "      <td>4625.702703</td>\n",
       "      <td>0.189189</td>\n",
       "    </tr>\n",
       "    <tr>\n",
       "      <th>EwLyNYtoj</th>\n",
       "      <td>0.108618</td>\n",
       "      <td>0.0</td>\n",
       "      <td>0.891382</td>\n",
       "      <td>1.459562e-06</td>\n",
       "      <td>543.197080</td>\n",
       "      <td>0.0</td>\n",
       "      <td>4457.802920</td>\n",
       "      <td>0.007299</td>\n",
       "    </tr>\n",
       "    <tr>\n",
       "      <th>GGIVfsVBZ</th>\n",
       "      <td>0.912699</td>\n",
       "      <td>0.0</td>\n",
       "      <td>0.087301</td>\n",
       "      <td>1.300553e-05</td>\n",
       "      <td>4564.406504</td>\n",
       "      <td>0.0</td>\n",
       "      <td>436.593496</td>\n",
       "      <td>0.065041</td>\n",
       "    </tr>\n",
       "    <tr>\n",
       "      <th>HGmEUUbnk</th>\n",
       "      <td>0.042090</td>\n",
       "      <td>0.0</td>\n",
       "      <td>0.957910</td>\n",
       "      <td>2.657696e-05</td>\n",
       "      <td>210.493671</td>\n",
       "      <td>0.0</td>\n",
       "      <td>4790.506329</td>\n",
       "      <td>0.132911</td>\n",
       "    </tr>\n",
       "    <tr>\n",
       "      <th>HwQv6h4wX</th>\n",
       "      <td>0.115469</td>\n",
       "      <td>0.0</td>\n",
       "      <td>0.884531</td>\n",
       "      <td>1.538154e-05</td>\n",
       "      <td>577.461538</td>\n",
       "      <td>0.0</td>\n",
       "      <td>4423.538462</td>\n",
       "      <td>0.076923</td>\n",
       "    </tr>\n",
       "    <tr>\n",
       "      <th>KMsYOKD7K</th>\n",
       "      <td>0.999400</td>\n",
       "      <td>0.0</td>\n",
       "      <td>0.000600</td>\n",
       "      <td>1.799640e-03</td>\n",
       "      <td>4998.000000</td>\n",
       "      <td>0.0</td>\n",
       "      <td>3.000000</td>\n",
       "      <td>9.000000</td>\n",
       "    </tr>\n",
       "    <tr>\n",
       "      <th>KRKtoRvpm</th>\n",
       "      <td>0.112742</td>\n",
       "      <td>0.0</td>\n",
       "      <td>0.887258</td>\n",
       "      <td>1.950829e-06</td>\n",
       "      <td>563.824390</td>\n",
       "      <td>0.0</td>\n",
       "      <td>4437.175610</td>\n",
       "      <td>0.009756</td>\n",
       "    </tr>\n",
       "    <tr>\n",
       "      <th>LvvNze7nR</th>\n",
       "      <td>0.117834</td>\n",
       "      <td>0.0</td>\n",
       "      <td>0.882166</td>\n",
       "      <td>2.761352e-04</td>\n",
       "      <td>589.285714</td>\n",
       "      <td>0.0</td>\n",
       "      <td>4411.714286</td>\n",
       "      <td>1.380952</td>\n",
       "    </tr>\n",
       "    <tr>\n",
       "      <th>N33SkANMf</th>\n",
       "      <td>0.149170</td>\n",
       "      <td>0.0</td>\n",
       "      <td>0.850830</td>\n",
       "      <td>4.399120e-03</td>\n",
       "      <td>746.000000</td>\n",
       "      <td>0.0</td>\n",
       "      <td>4255.000000</td>\n",
       "      <td>22.000000</td>\n",
       "    </tr>\n",
       "  </tbody>\n",
       "</table>\n",
       "</div>"
      ],
      "text/plain": [
       "           frames_succeeded_rel  frames_bad_rel  frames_failed_rel  \\\n",
       "stream_id                                                            \n",
       "1oNVFF8z5              0.113318             0.0           0.886682   \n",
       "20MymqiDg              0.417032             0.0           0.582966   \n",
       "2iiRw70nR              0.043216             0.0           0.956787   \n",
       "32k3eKSfF              0.168366             0.0           0.831634   \n",
       "3kYajer3Y              0.067244             0.0           0.932756   \n",
       "4Hf6dcjJo              0.042904             0.0           0.957095   \n",
       "5rBRjYRsZ              0.153460             0.0           0.846540   \n",
       "74VJiYKTi              0.111560             0.0           0.888437   \n",
       "93eBAYy3W              0.076290             0.0           0.923710   \n",
       "AyDMbfWEO              1.000000             0.0           0.000000   \n",
       "DnRcgcTLK              0.106191             0.0           0.893808   \n",
       "Ep2BolkSW              0.075039             0.0           0.924956   \n",
       "EwLyNYtoj              0.108618             0.0           0.891382   \n",
       "GGIVfsVBZ              0.912699             0.0           0.087301   \n",
       "HGmEUUbnk              0.042090             0.0           0.957910   \n",
       "HwQv6h4wX              0.115469             0.0           0.884531   \n",
       "KMsYOKD7K              0.999400             0.0           0.000600   \n",
       "KRKtoRvpm              0.112742             0.0           0.887258   \n",
       "LvvNze7nR              0.117834             0.0           0.882166   \n",
       "N33SkANMf              0.149170             0.0           0.850830   \n",
       "\n",
       "           frames_invalid_fps_rel  frames_succeeded  frames_bad  \\\n",
       "stream_id                                                         \n",
       "1oNVFF8z5            3.615913e-07        566.701627         0.0   \n",
       "20MymqiDg            2.156431e-05       2085.578431         0.0   \n",
       "2iiRw70nR            4.686563e-05        216.125000         0.0   \n",
       "32k3eKSfF            1.999600e-04        842.000000         0.0   \n",
       "3kYajer3Y            6.343277e-02        336.287879         0.0   \n",
       "4Hf6dcjJo            2.086021e-06        214.564829         0.0   \n",
       "5rBRjYRsZ            1.636036e-04        767.454545         0.0   \n",
       "74VJiYKTi            7.141429e-06        557.910714         0.0   \n",
       "93eBAYy3W            2.104842e-05        381.526316         0.0   \n",
       "AyDMbfWEO            3.999200e-04       5001.000000         0.0   \n",
       "DnRcgcTLK            1.793363e-06        531.062780         0.0   \n",
       "Ep2BolkSW            3.783027e-05        375.270270         0.0   \n",
       "EwLyNYtoj            1.459562e-06        543.197080         0.0   \n",
       "GGIVfsVBZ            1.300553e-05       4564.406504         0.0   \n",
       "HGmEUUbnk            2.657696e-05        210.493671         0.0   \n",
       "HwQv6h4wX            1.538154e-05        577.461538         0.0   \n",
       "KMsYOKD7K            1.799640e-03       4998.000000         0.0   \n",
       "KRKtoRvpm            1.950829e-06        563.824390         0.0   \n",
       "LvvNze7nR            2.761352e-04        589.285714         0.0   \n",
       "N33SkANMf            4.399120e-03        746.000000         0.0   \n",
       "\n",
       "           frames_failed  frames_invalid_fps  \n",
       "stream_id                                     \n",
       "1oNVFF8z5    4434.298373            0.001808  \n",
       "20MymqiDg    2915.411765            0.107843  \n",
       "2iiRw70nR    4784.890625            0.234375  \n",
       "32k3eKSfF    4159.000000            1.000000  \n",
       "3kYajer3Y    4664.712121          317.227273  \n",
       "4Hf6dcjJo    4786.432936            0.010432  \n",
       "5rBRjYRsZ    4233.545455            0.818182  \n",
       "74VJiYKTi    4443.071429            0.035714  \n",
       "93eBAYy3W    4619.473684            0.105263  \n",
       "AyDMbfWEO       0.000000            2.000000  \n",
       "DnRcgcTLK    4469.932735            0.008969  \n",
       "Ep2BolkSW    4625.702703            0.189189  \n",
       "EwLyNYtoj    4457.802920            0.007299  \n",
       "GGIVfsVBZ     436.593496            0.065041  \n",
       "HGmEUUbnk    4790.506329            0.132911  \n",
       "HwQv6h4wX    4423.538462            0.076923  \n",
       "KMsYOKD7K       3.000000            9.000000  \n",
       "KRKtoRvpm    4437.175610            0.009756  \n",
       "LvvNze7nR    4411.714286            1.380952  \n",
       "N33SkANMf    4255.000000           22.000000  "
      ]
     },
     "execution_count": 668,
     "metadata": {},
     "output_type": "execute_result"
    }
   ],
   "source": [
    "df_n_rel = df_n[['stream_id', 'frames_succeeded_rel', 'frames_bad_rel', 'frames_failed_rel', 'frames_invalid_fps_rel', 'frames_succeeded', 'frames_bad', 'frames_failed', 'frames_invalid_fps']].groupby('stream_id').mean()\n",
    "df_n_rel.head(20)"
   ]
  },
  {
   "cell_type": "code",
   "execution_count": 669,
   "metadata": {
    "scrolled": true
   },
   "outputs": [
    {
     "data": {
      "text/plain": [
       "<AxesSubplot:xlabel='stream_id'>"
      ]
     },
     "execution_count": 669,
     "metadata": {},
     "output_type": "execute_result"
    },
    {
     "data": {
      "image/png": "[encoded data removed]",
      "text/plain": [
       "<Figure size 1080x288 with 1 Axes>"
      ]
     },
     "metadata": {
      "needs_background": "light"
     },
     "output_type": "display_data"
    }
   ],
   "source": [
    "df_n_rel.reset_index().plot.bar(x='stream_id', y=['frames_succeeded_rel', 'frames_failed_rel'], stacked=True, figsize=(15,4))"
   ]
  },
  {
   "cell_type": "code",
   "execution_count": 671,
   "metadata": {},
   "outputs": [
    {
     "data": {
      "text/plain": [
       "<AxesSubplot:xlabel='stream_id'>"
      ]
     },
     "execution_count": 671,
     "metadata": {},
     "output_type": "execute_result"
    },
    {
     "data": {
      "image/png": "[encoded data removed]",
      "text/plain": [
       "<Figure size 1080x288 with 1 Axes>"
      ]
     },
     "metadata": {
      "needs_background": "light"
     },
     "output_type": "display_data"
    }
   ],
   "source": [
    "df_n_rel.reset_index().plot.bar(x='stream_id', y=['frames_bad_rel', 'frames_invalid_fps_rel'], figsize=(15,4))"
   ]
  },
  {
   "cell_type": "code",
   "execution_count": null,
   "metadata": {},
   "outputs": [],
   "source": []
  }
 ],
 "metadata": {
  "kernelspec": {
   "display_name": "Python 3",
   "language": "python",
   "name": "python3"
  },
  "language_info": {
   "codemirror_mode": {
    "name": "ipython",
    "version": 3
   },
   "file_extension": ".py",
   "mimetype": "text/x-python",
   "name": "python",
   "nbconvert_exporter": "python",
   "pygments_lexer": "ipython3",
   "version": "3.7.10"
  }
 },
 "nbformat": 4,
 "nbformat_minor": 2
}
